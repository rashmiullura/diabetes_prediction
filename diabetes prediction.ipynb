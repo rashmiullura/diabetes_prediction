{
 "cells": [
  {
   "cell_type": "code",
   "execution_count": 4,
   "metadata": {},
   "outputs": [],
   "source": [
    "#This program detects if someone has diabetes using machine learning"
   ]
  },
  {
   "cell_type": "code",
   "execution_count": 5,
   "metadata": {},
   "outputs": [],
   "source": [
    "import pandas as pd\n",
    "from sklearn.metrics import accuracy_score\n",
    "from sklearn.model_selection import train_test_split\n",
    "from sklearn.ensemble import RandomForestClassifier\n",
    "from PIL import Image\n",
    "import streamlit as st"
   ]
  },
  {
   "cell_type": "code",
   "execution_count": 8,
   "metadata": {},
   "outputs": [
    {
     "data": {
      "text/plain": [
       "DeltaGenerator(_root_container=0, _provided_cursor=None, _parent=None, _block_type=None, _form_data=None)"
      ]
     },
     "execution_count": 8,
     "metadata": {},
     "output_type": "execute_result"
    }
   ],
   "source": [
    "st.write(\"\"\"\n",
    "# Diabetes Detection\n",
    "Detect if someone has diabetes using machine learning and python!\n",
    "\"\"\")\n",
    "\n",
    "#open and display an image\n",
    "image = Image.open('image1.jpg')\n",
    "st.image(image, caption='ML', use_column_width=True)"
   ]
  },
  {
   "cell_type": "code",
   "execution_count": 9,
   "metadata": {},
   "outputs": [],
   "source": [
    "df = pd.read_csv('diabetes.csv')"
   ]
  },
  {
   "cell_type": "code",
   "execution_count": 11,
   "metadata": {},
   "outputs": [],
   "source": [
    "#Set a subheader\n",
    "st.subheader('Data Information')\n",
    "\n",
    "#Show the data as a table\n",
    "st.dataframe(df)\n",
    "\n",
    "#Show statistics on the data\n",
    "st.write(df.describe())\n",
    "\n",
    "#Show the data as a chart\n",
    "chart = st.bar_chart(df)"
   ]
  },
  {
   "cell_type": "code",
   "execution_count": 12,
   "metadata": {},
   "outputs": [],
   "source": [
    "#Split the dataset into independent x and dependent y variables\n",
    "x = df.iloc[:, 0:8].values\n",
    "y = df.iloc[:,-1].values"
   ]
  },
  {
   "cell_type": "code",
   "execution_count": 14,
   "metadata": {},
   "outputs": [],
   "source": [
    "#split the dataset into 75% training and 25% testing\n",
    "x_train, x_test, y_train, y_test = train_test_split(x,y, test_size=0.25, random_state=0)"
   ]
  },
  {
   "cell_type": "code",
   "execution_count": 15,
   "metadata": {},
   "outputs": [],
   "source": [
    "#get the feature input from the user\n",
    "def get_user_input():\n",
    "    pregnancies = st.sidebar.slider('pregnancies', 0, 17, 3)\n",
    "    #above value starts at 0 and ends at 17 and default at 3\n",
    "    glucose = st.sidebar.slider('glucose',0,195,117)\n",
    "    bloodpresure = st.sidebar.slider('blood_pressure', 0, 122,72)\n",
    "    skinthickness = st.sidebar.slider('skin_thickness',0,99,23)\n",
    "    insulin = st.sidebar.slider('insulin',0.0, 846.0,30.0)\n",
    "    BMI = st.sidebar.slider('BMI',0.0,67.1,32.0)\n",
    "    DiabetesPF = st.sidebar.slider('DPF',0,0.78,2.42,0.3725)\n",
    "    Age = st.sidebar.slider('age', 21,81,29)"
   ]
  },
  {
   "cell_type": "code",
   "execution_count": 19,
   "metadata": {},
   "outputs": [
    {
     "ename": "NameError",
     "evalue": "name 'glucose' is not defined",
     "output_type": "error",
     "traceback": [
      "\u001b[1;31m---------------------------------------------------------------------------\u001b[0m",
      "\u001b[1;31mNameError\u001b[0m                                 Traceback (most recent call last)",
      "\u001b[1;32m<ipython-input-19-351a532b43bb>\u001b[0m in \u001b[0;36m<module>\u001b[1;34m\u001b[0m\n\u001b[0;32m      2\u001b[0m user_data ={\n\u001b[0;32m      3\u001b[0m     \u001b[1;31m#'pregnancies':pregnancies,\u001b[0m\u001b[1;33m\u001b[0m\u001b[1;33m\u001b[0m\u001b[1;33m\u001b[0m\u001b[0m\n\u001b[1;32m----> 4\u001b[1;33m     \u001b[1;34m'glucose'\u001b[0m\u001b[1;33m:\u001b[0m\u001b[0mglucose\u001b[0m\u001b[1;33m,\u001b[0m\u001b[1;33m\u001b[0m\u001b[1;33m\u001b[0m\u001b[0m\n\u001b[0m\u001b[0;32m      5\u001b[0m     \u001b[1;34m'blood_pressure'\u001b[0m\u001b[1;33m:\u001b[0m \u001b[0mblood_pressure\u001b[0m\u001b[1;33m,\u001b[0m\u001b[1;33m\u001b[0m\u001b[1;33m\u001b[0m\u001b[0m\n\u001b[0;32m      6\u001b[0m     \u001b[1;34m'skin_thickness'\u001b[0m\u001b[1;33m:\u001b[0m \u001b[0mskin_thickness\u001b[0m\u001b[1;33m,\u001b[0m\u001b[1;33m\u001b[0m\u001b[1;33m\u001b[0m\u001b[0m\n",
      "\u001b[1;31mNameError\u001b[0m: name 'glucose' is not defined"
     ]
    }
   ],
   "source": [
    "#store a dictionary into a variable\n",
    "user_data ={\n",
    "    'pregnancies':pregnancies,\n",
    "    'glucose':glucose,\n",
    "    'blood_pressure': blood_pressure,\n",
    "    'skin_thickness': skin_thickness,\n",
    "    'insulin':insulin,\n",
    "    'BMI':BMI,\n",
    "    'DPF':DPF,\n",
    "    'age':age\n",
    "}\n",
    "\n",
    "#Transform the data into data frame \n",
    "features = pd.DataFrame(user_data, index = [0])\n",
    "return features"
   ]
  },
  {
   "cell_type": "code",
   "execution_count": 20,
   "metadata": {},
   "outputs": [
    {
     "ename": "StreamlitAPIException",
     "evalue": "Slider value arguments must be of matching types.\n`min_value` has int type.\n`max_value` has float type.\n`step` has float type.",
     "output_type": "error",
     "traceback": [
      "\u001b[1;31m---------------------------------------------------------------------------\u001b[0m",
      "\u001b[1;31mStreamlitAPIException\u001b[0m                     Traceback (most recent call last)",
      "\u001b[1;32m<ipython-input-20-37e9c77623d1>\u001b[0m in \u001b[0;36m<module>\u001b[1;34m\u001b[0m\n\u001b[0;32m      1\u001b[0m \u001b[1;31m#Store the user input into a variable\u001b[0m\u001b[1;33m\u001b[0m\u001b[1;33m\u001b[0m\u001b[1;33m\u001b[0m\u001b[0m\n\u001b[1;32m----> 2\u001b[1;33m \u001b[0muser_input\u001b[0m \u001b[1;33m=\u001b[0m \u001b[0mget_user_input\u001b[0m\u001b[1;33m(\u001b[0m\u001b[1;33m)\u001b[0m\u001b[1;33m\u001b[0m\u001b[1;33m\u001b[0m\u001b[0m\n\u001b[0m\u001b[0;32m      3\u001b[0m \u001b[1;33m\u001b[0m\u001b[0m\n\u001b[0;32m      4\u001b[0m \u001b[1;31m#Set a subheader and display the user input\u001b[0m\u001b[1;33m\u001b[0m\u001b[1;33m\u001b[0m\u001b[1;33m\u001b[0m\u001b[0m\n\u001b[0;32m      5\u001b[0m \u001b[0mst\u001b[0m\u001b[1;33m.\u001b[0m\u001b[0msubheader\u001b[0m\u001b[1;33m(\u001b[0m\u001b[1;34m'User Input:'\u001b[0m\u001b[1;33m)\u001b[0m\u001b[1;33m\u001b[0m\u001b[1;33m\u001b[0m\u001b[0m\n",
      "\u001b[1;32m<ipython-input-15-8b3fc17421b0>\u001b[0m in \u001b[0;36mget_user_input\u001b[1;34m()\u001b[0m\n\u001b[0;32m      8\u001b[0m     \u001b[0minsulin\u001b[0m \u001b[1;33m=\u001b[0m \u001b[0mst\u001b[0m\u001b[1;33m.\u001b[0m\u001b[0msidebar\u001b[0m\u001b[1;33m.\u001b[0m\u001b[0mslider\u001b[0m\u001b[1;33m(\u001b[0m\u001b[1;34m'insulin'\u001b[0m\u001b[1;33m,\u001b[0m\u001b[1;36m0.0\u001b[0m\u001b[1;33m,\u001b[0m \u001b[1;36m846.0\u001b[0m\u001b[1;33m,\u001b[0m\u001b[1;36m30.0\u001b[0m\u001b[1;33m)\u001b[0m\u001b[1;33m\u001b[0m\u001b[1;33m\u001b[0m\u001b[0m\n\u001b[0;32m      9\u001b[0m     \u001b[0mBMI\u001b[0m \u001b[1;33m=\u001b[0m \u001b[0mst\u001b[0m\u001b[1;33m.\u001b[0m\u001b[0msidebar\u001b[0m\u001b[1;33m.\u001b[0m\u001b[0mslider\u001b[0m\u001b[1;33m(\u001b[0m\u001b[1;34m'BMI'\u001b[0m\u001b[1;33m,\u001b[0m\u001b[1;36m0.0\u001b[0m\u001b[1;33m,\u001b[0m\u001b[1;36m67.1\u001b[0m\u001b[1;33m,\u001b[0m\u001b[1;36m32.0\u001b[0m\u001b[1;33m)\u001b[0m\u001b[1;33m\u001b[0m\u001b[1;33m\u001b[0m\u001b[0m\n\u001b[1;32m---> 10\u001b[1;33m     \u001b[0mDiabetesPF\u001b[0m \u001b[1;33m=\u001b[0m \u001b[0mst\u001b[0m\u001b[1;33m.\u001b[0m\u001b[0msidebar\u001b[0m\u001b[1;33m.\u001b[0m\u001b[0mslider\u001b[0m\u001b[1;33m(\u001b[0m\u001b[1;34m'DPF'\u001b[0m\u001b[1;33m,\u001b[0m\u001b[1;36m0\u001b[0m\u001b[1;33m,\u001b[0m\u001b[1;36m0.78\u001b[0m\u001b[1;33m,\u001b[0m\u001b[1;36m2.42\u001b[0m\u001b[1;33m,\u001b[0m\u001b[1;36m0.3725\u001b[0m\u001b[1;33m)\u001b[0m\u001b[1;33m\u001b[0m\u001b[1;33m\u001b[0m\u001b[0m\n\u001b[0m\u001b[0;32m     11\u001b[0m     \u001b[0mAge\u001b[0m \u001b[1;33m=\u001b[0m \u001b[0mst\u001b[0m\u001b[1;33m.\u001b[0m\u001b[0msidebar\u001b[0m\u001b[1;33m.\u001b[0m\u001b[0mslider\u001b[0m\u001b[1;33m(\u001b[0m\u001b[1;34m'age'\u001b[0m\u001b[1;33m,\u001b[0m \u001b[1;36m21\u001b[0m\u001b[1;33m,\u001b[0m\u001b[1;36m81\u001b[0m\u001b[1;33m,\u001b[0m\u001b[1;36m29\u001b[0m\u001b[1;33m)\u001b[0m\u001b[1;33m\u001b[0m\u001b[1;33m\u001b[0m\u001b[0m\n",
      "\u001b[1;32mC:\\ProgramData\\Anaconda3\\lib\\site-packages\\streamlit\\elements\\slider.py\u001b[0m in \u001b[0;36mslider\u001b[1;34m(self, label, min_value, max_value, value, step, format, key, help)\u001b[0m\n\u001b[0;32m    248\u001b[0m                     \u001b[1;34m\"min_type\"\u001b[0m\u001b[1;33m:\u001b[0m \u001b[0mtype\u001b[0m\u001b[1;33m(\u001b[0m\u001b[0mmin_value\u001b[0m\u001b[1;33m)\u001b[0m\u001b[1;33m.\u001b[0m\u001b[0m__name__\u001b[0m\u001b[1;33m,\u001b[0m\u001b[1;33m\u001b[0m\u001b[1;33m\u001b[0m\u001b[0m\n\u001b[0;32m    249\u001b[0m                     \u001b[1;34m\"max_type\"\u001b[0m\u001b[1;33m:\u001b[0m \u001b[0mtype\u001b[0m\u001b[1;33m(\u001b[0m\u001b[0mmax_value\u001b[0m\u001b[1;33m)\u001b[0m\u001b[1;33m.\u001b[0m\u001b[0m__name__\u001b[0m\u001b[1;33m,\u001b[0m\u001b[1;33m\u001b[0m\u001b[1;33m\u001b[0m\u001b[0m\n\u001b[1;32m--> 250\u001b[1;33m                     \u001b[1;34m\"step\"\u001b[0m\u001b[1;33m:\u001b[0m \u001b[0mtype\u001b[0m\u001b[1;33m(\u001b[0m\u001b[0mstep\u001b[0m\u001b[1;33m)\u001b[0m\u001b[1;33m.\u001b[0m\u001b[0m__name__\u001b[0m\u001b[1;33m,\u001b[0m\u001b[1;33m\u001b[0m\u001b[1;33m\u001b[0m\u001b[0m\n\u001b[0m\u001b[0;32m    251\u001b[0m                 }\n\u001b[0;32m    252\u001b[0m             )\n",
      "\u001b[1;31mStreamlitAPIException\u001b[0m: Slider value arguments must be of matching types.\n`min_value` has int type.\n`max_value` has float type.\n`step` has float type."
     ]
    }
   ],
   "source": [
    "#Store the user input into a variable\n",
    "user_input = get_user_input()\n",
    "\n",
    "#Set a subheader and display the user input\n",
    "st.subheader('User Input:')\n",
    "st.write(user_input)\n",
    "\n",
    "#Create and train the model\n",
    "RandomForestClassifier = RandomForestClassifier()\n",
    "RandomForestClassifier.fit(x_train,y_train)\n",
    "\n",
    "#show the models metrics\n",
    "st.subheader('Model Test Accuracy Score:')\n",
    "st.write(accuracy_score(y_test, RandomForestClassifier.predict(x_test))*100+'%')\n",
    "\n",
    "#store the models preidiction in a variable\n",
    "prediction = RandomForestClassifier.predict(user_input)\n"
   ]
  },
  {
   "cell_type": "code",
   "execution_count": null,
   "metadata": {},
   "outputs": [],
   "source": []
  }
 ],
 "metadata": {
  "kernelspec": {
   "display_name": "Python 3",
   "language": "python",
   "name": "python3"
  },
  "language_info": {
   "codemirror_mode": {
    "name": "ipython",
    "version": 3
   },
   "file_extension": ".py",
   "mimetype": "text/x-python",
   "name": "python",
   "nbconvert_exporter": "python",
   "pygments_lexer": "ipython3",
   "version": "3.7.6"
  }
 },
 "nbformat": 4,
 "nbformat_minor": 4
}
